{
 "cells": [
  {
   "cell_type": "markdown",
   "id": "8cee7c89",
   "metadata": {},
   "source": [
    "## Workshop 2\n"
   ]
  },
  {
   "cell_type": "markdown",
   "id": "3316484f",
   "metadata": {},
   "source": [
    "### Recap: Introduction to Python\n",
    "\n"
   ]
  },
  {
   "cell_type": "markdown",
   "id": "5c07cde7",
   "metadata": {},
   "source": [
    "Python is a versatile and high-level programming language that is widely used in many fields, including data science, neuroscience, and biomedical research. It is known for its flexibility, making it a great choice for both beginners and advanced users.\n"
   ]
  },
  {
   "cell_type": "markdown",
   "id": "ccb75d75",
   "metadata": {},
   "source": [
    "### Basic Python Concepts\n"
   ]
  },
  {
   "cell_type": "markdown",
   "id": "ff6c75c0",
   "metadata": {},
   "source": [
    "Comments: Use  #  to write comments for better readability.\n"
   ]
  },
  {
   "cell_type": "markdown",
   "id": "9b3ae4a2",
   "metadata": {},
   "source": [
    "Data Types: Numbers, Strings, Lists, Tuples, Dictionaries.\n"
   ]
  },
  {
   "cell_type": "markdown",
   "id": "fd262910",
   "metadata": {},
   "source": [
    "Control Structures: if-else, for loops."
   ]
  },
  {
   "cell_type": "markdown",
   "id": "8d472d89",
   "metadata": {},
   "source": [
    "### Key Python Libraries\n"
   ]
  },
  {
   "cell_type": "markdown",
   "id": "01a3531a",
   "metadata": {},
   "source": [
    "Python has a rich ecosystem of libraries that simplify various tasks:\n",
    "\n",
    "\n"
   ]
  },
  {
   "cell_type": "markdown",
   "id": "6ec95f56",
   "metadata": {},
   "source": [
    "1.NumPy – Handles numerical data and arrays efficiently."
   ]
  },
  {
   "cell_type": "markdown",
   "id": "29045d6a",
   "metadata": {},
   "source": [
    "2.Pandas – Works with structured data (tables, CSV files).\n"
   ]
  },
  {
   "cell_type": "markdown",
   "id": "161703db",
   "metadata": {},
   "source": [
    "3.Matplotlib – Helps in data visualization."
   ]
  },
  {
   "cell_type": "markdown",
   "id": "98a1f5f0",
   "metadata": {},
   "source": [
    "4.Scipy and pingouin – Useful for scientific computations and statistics"
   ]
  },
  {
   "cell_type": "markdown",
   "id": "b5aef6bb",
   "metadata": {},
   "source": [
    "## Introduction to Pandas for Biological Data Analysis"
   ]
  },
  {
   "cell_type": "markdown",
   "id": "19c7b7c6",
   "metadata": {},
   "source": [
    "## Basic Concepts:\n",
    "Pandas builds on top of NumPy and provides data structures like DataFrame and Series, which are essential for handling and analyzing data in biological studies. "
   ]
  },
  {
   "cell_type": "code",
   "execution_count": 52,
   "id": "18718324",
   "metadata": {},
   "outputs": [],
   "source": [
    "import pandas as pd\n"
   ]
  },
  {
   "cell_type": "markdown",
   "id": "faf1f575",
   "metadata": {},
   "source": [
    "### Creating and Manipulating DataFrames\n"
   ]
  },
  {
   "cell_type": "markdown",
   "id": "0f213afd",
   "metadata": {},
   "source": [
    "Example 1: Creating a DataFrame from Dictionary\n",
    "\n"
   ]
  },
  {
   "cell_type": "code",
   "execution_count": 125,
   "id": "d30eccf9",
   "metadata": {},
   "outputs": [
    {
     "name": "stdout",
     "output_type": "stream",
     "text": [
      "DataFrame:\n",
      "     Gene  Sample1  Sample2  Sample3\n",
      "0  Gene1     10.2      9.5     11.1\n",
      "1  Gene2      8.5      7.8      9.2\n",
      "2  Gene3     12.1     11.2     13.5\n",
      "3  Gene4     15.3     14.5     16.2\n"
     ]
    }
   ],
   "source": [
    "import pandas as pd\n",
    "\n",
    "# Example data: gene expression levels across samples\n",
    "data = {\n",
    "    'Gene': ['Gene1', 'Gene2', 'Gene3', 'Gene4'],\n",
    "    'Sample1': [10.2, 8.5, 12.1, 15.3],\n",
    "    'Sample2': [9.5, 7.8, 11.2, 14.5],\n",
    "    'Sample3': [11.1, 9.2, 13.5, 16.2]\n",
    "}\n",
    "\n",
    "# Create a DataFrame\n",
    "df = pd.DataFrame(data)\n",
    "\n",
    "# Display the DataFrame\n",
    "print(\"DataFrame:\\n\", df)\n"
   ]
  },
  {
   "cell_type": "markdown",
   "id": "07fd2d8c",
   "metadata": {},
   "source": [
    "In this example, we create a Pandas DataFrame from a dictionary representing gene expression levels across different samples. Each column represents a sample, and each row represents a gene.\n",
    "\n"
   ]
  },
  {
   "cell_type": "markdown",
   "id": "d57d50da",
   "metadata": {},
   "source": [
    "### Calculating Statistics"
   ]
  },
  {
   "cell_type": "code",
   "execution_count": 59,
   "id": "ef27fefa",
   "metadata": {},
   "outputs": [
    {
     "name": "stdout",
     "output_type": "stream",
     "text": [
      "Mean expression across samples:\n",
      " Sample1    11.525\n",
      "Sample2    10.750\n",
      "Sample3    12.500\n",
      "dtype: float64\n",
      "\n",
      "Standard deviation of gene expression:\n",
      " Sample1    2.914761\n",
      "Sample2    2.859487\n",
      "Sample3    3.029851\n",
      "dtype: float64\n"
     ]
    }
   ],
   "source": [
    "# Exclude the 'Gene' column from calculations\n",
    "numeric_columns = df.drop('Gene', axis=1)\n",
    "\n",
    "# Calculate mean and standard deviation of gene expression levels\n",
    "mean_expression = numeric_columns.mean()\n",
    "std_expression = numeric_columns.std()\n",
    "\n",
    "print(\"Mean expression across samples:\\n\", mean_expression)\n",
    "print(\"\\nStandard deviation of gene expression:\\n\", std_expression)"
   ]
  },
  {
   "cell_type": "markdown",
   "id": "abd3513f",
   "metadata": {},
   "source": [
    "### Filtering and Subsetting Data"
   ]
  },
  {
   "cell_type": "code",
   "execution_count": 65,
   "id": "18450677",
   "metadata": {},
   "outputs": [
    {
     "name": "stdout",
     "output_type": "stream",
     "text": [
      "0    10.2\n",
      "1     8.5\n",
      "2    12.1\n",
      "3    15.3\n",
      "Name: Sample1, dtype: float64\n"
     ]
    }
   ],
   "source": [
    "# Display only the gene expression patterns for Sample 1\n",
    "pattern=df['Sample1']\n",
    "print(pattern)"
   ]
  },
  {
   "cell_type": "code",
   "execution_count": 69,
   "id": "b81ec35b",
   "metadata": {},
   "outputs": [
    {
     "name": "stdout",
     "output_type": "stream",
     "text": [
      "0    10.2\n",
      "1     8.5\n",
      "2    12.1\n",
      "3    15.3\n",
      "Name: Sample1, dtype: float64\n"
     ]
    }
   ],
   "source": [
    "# alternatively:\n",
    "pattern=df.Sample1\n",
    "print(pattern)"
   ]
  },
  {
   "cell_type": "markdown",
   "id": "e48d7062",
   "metadata": {},
   "source": [
    "### Plotting Data"
   ]
  },
  {
   "cell_type": "markdown",
   "id": "9671c5b5",
   "metadata": {},
   "source": [
    "After we have organised our data into a dataframe, we can perform multiple operations on them."
   ]
  },
  {
   "cell_type": "markdown",
   "id": "e0e99584",
   "metadata": {},
   "source": [
    "The most obvious one is to visualise them, for example:"
   ]
  },
  {
   "cell_type": "code",
   "execution_count": 127,
   "id": "704dc3da",
   "metadata": {},
   "outputs": [
    {
     "data": {
      "image/png": "[encoded data removed]",
      "text/plain": [
       "<Figure size 1000x600 with 1 Axes>"
      ]
     },
     "metadata": {},
     "output_type": "display_data"
    }
   ],
   "source": [
    "import matplotlib.pyplot as plt\n",
    "\n",
    "# Plot gene expression across samples\n",
    "df.plot(x='Gene', y=['Sample1', 'Sample2', 'Sample3'], kind='bar', figsize=(10, 6))\n",
    "plt.xlabel('Gene')\n",
    "plt.ylabel('Expression Level')\n",
    "plt.title('Gene Expression Across Samples')\n",
    "plt.legend(loc='upper left')\n",
    "plt.show()\n"
   ]
  },
  {
   "cell_type": "markdown",
   "id": "b9ab280d",
   "metadata": {},
   "source": [
    "### In the next section, we will explore how we can create different plots (such as the one above) using Python!"
   ]
  },
  {
   "cell_type": "markdown",
   "id": "022d75fd",
   "metadata": {},
   "source": [
    " Pandas integrates well with Matplotlib for data visualization. This example demonstrates plotting gene expression levels across different samples using a bar plot, providing a visual overview of data trends."
   ]
  },
  {
   "cell_type": "markdown",
   "id": "c9eb35d0",
   "metadata": {},
   "source": [
    "This serves as an introduction to our next module, Matplotlip"
   ]
  },
  {
   "cell_type": "markdown",
   "id": "a0509393",
   "metadata": {},
   "source": [
    "## MatPlotlib"
   ]
  },
  {
   "cell_type": "markdown",
   "id": "7a64d66e",
   "metadata": {},
   "source": [
    "Matplotlib is a versatile plotting library in Python that facilitates creating a wide range of visualizations"
   ]
  },
  {
   "cell_type": "markdown",
   "id": "7cf0654b",
   "metadata": {},
   "source": [
    "Getting started:"
   ]
  },
  {
   "cell_type": "code",
   "execution_count": 131,
   "id": "d73cf31d",
   "metadata": {},
   "outputs": [],
   "source": [
    "import matplotlib as plt"
   ]
  },
  {
   "cell_type": "markdown",
   "id": "c62f0a29",
   "metadata": {},
   "source": [
    "### Basic Plotting with Matplotlib\n"
   ]
  },
  {
   "cell_type": "markdown",
   "id": "4ee08123",
   "metadata": {},
   "source": [
    "### Example 1: Histogram of Gene Expression Distribution\n"
   ]
  },
  {
   "cell_type": "code",
   "execution_count": 87,
   "id": "212076fc",
   "metadata": {},
   "outputs": [
    {
     "data": {
      "image/png": "[encoded data removed]",
      "text/plain": [
       "<Figure size 800x500 with 1 Axes>"
      ]
     },
     "metadata": {},
     "output_type": "display_data"
    }
   ],
   "source": [
    "import matplotlib.pyplot as plt\n",
    "import numpy as np\n",
    "\n",
    "# Generate synthetic gene expression data\n",
    "np.random.seed(0)\n",
    "gene_expression = np.random.normal(loc=10, scale=2, size=100)\n",
    "\n",
    "# Plotting\n",
    "plt.figure(figsize=(8, 5))\n",
    "plt.hist(gene_expression, bins=15, edgecolor='black')\n",
    "plt.xlabel('Spiking rate (Hz)')\n",
    "plt.ylabel('Frequency of observations')\n",
    "plt.title('Spiking rate of a V1 neuron')\n",
    "plt.grid(True)\n",
    "plt.show()\n"
   ]
  },
  {
   "cell_type": "markdown",
   "id": "dec41630",
   "metadata": {},
   "source": [
    "### Excercise: Try to do the same changing the bin size (bins=....)\n"
   ]
  },
  {
   "cell_type": "code",
   "execution_count": null,
   "id": "664eadad",
   "metadata": {},
   "outputs": [],
   "source": [
    "\n",
    "\n",
    "\n",
    "\n",
    "\n",
    "\n",
    "\n",
    "\n",
    "\n",
    "\n"
   ]
  },
  {
   "cell_type": "markdown",
   "id": "c3642a41",
   "metadata": {},
   "source": [
    "#### What do you observe?"
   ]
  },
  {
   "cell_type": "markdown",
   "id": "d5633c02",
   "metadata": {},
   "source": []
  },
  {
   "cell_type": "markdown",
   "id": "58caf258",
   "metadata": {},
   "source": [
    "### Example 2: Subplots for Comparing Multiple Conditions\n"
   ]
  },
  {
   "cell_type": "code",
   "execution_count": 68,
   "id": "a424383c",
   "metadata": {},
   "outputs": [
    {
     "data": {
      "text/html": [
       "<div>\n",
       "<style scoped>\n",
       "    .dataframe tbody tr th:only-of-type {\n",
       "        vertical-align: middle;\n",
       "    }\n",
       "\n",
       "    .dataframe tbody tr th {\n",
       "        vertical-align: top;\n",
       "    }\n",
       "\n",
       "    .dataframe thead th {\n",
       "        text-align: right;\n",
       "    }\n",
       "</style>\n",
       "<table border=\"1\" class=\"dataframe\">\n",
       "  <thead>\n",
       "    <tr style=\"text-align: right;\">\n",
       "      <th></th>\n",
       "      <th>Condition_A</th>\n",
       "      <th>Condition_B</th>\n",
       "      <th>Condition_C</th>\n",
       "    </tr>\n",
       "  </thead>\n",
       "  <tbody>\n",
       "    <tr>\n",
       "      <th>0</th>\n",
       "      <td>5.496714</td>\n",
       "      <td>6.584629</td>\n",
       "      <td>12.357787</td>\n",
       "    </tr>\n",
       "    <tr>\n",
       "      <th>1</th>\n",
       "      <td>4.861736</td>\n",
       "      <td>7.579355</td>\n",
       "      <td>12.560785</td>\n",
       "    </tr>\n",
       "    <tr>\n",
       "      <th>2</th>\n",
       "      <td>5.647689</td>\n",
       "      <td>7.657285</td>\n",
       "      <td>13.083051</td>\n",
       "    </tr>\n",
       "    <tr>\n",
       "      <th>3</th>\n",
       "      <td>6.523030</td>\n",
       "      <td>7.197723</td>\n",
       "      <td>13.053802</td>\n",
       "    </tr>\n",
       "    <tr>\n",
       "      <th>4</th>\n",
       "      <td>4.765847</td>\n",
       "      <td>7.838714</td>\n",
       "      <td>10.622331</td>\n",
       "    </tr>\n",
       "    <tr>\n",
       "      <th>...</th>\n",
       "      <td>...</td>\n",
       "      <td>...</td>\n",
       "      <td>...</td>\n",
       "    </tr>\n",
       "    <tr>\n",
       "      <th>95</th>\n",
       "      <td>3.536485</td>\n",
       "      <td>8.385317</td>\n",
       "      <td>11.307090</td>\n",
       "    </tr>\n",
       "    <tr>\n",
       "      <th>96</th>\n",
       "      <td>5.296120</td>\n",
       "      <td>7.116143</td>\n",
       "      <td>12.899600</td>\n",
       "    </tr>\n",
       "    <tr>\n",
       "      <th>97</th>\n",
       "      <td>5.261055</td>\n",
       "      <td>8.153725</td>\n",
       "      <td>12.307300</td>\n",
       "    </tr>\n",
       "    <tr>\n",
       "      <th>98</th>\n",
       "      <td>5.005113</td>\n",
       "      <td>8.058209</td>\n",
       "      <td>12.812862</td>\n",
       "    </tr>\n",
       "    <tr>\n",
       "      <th>99</th>\n",
       "      <td>4.765413</td>\n",
       "      <td>6.857030</td>\n",
       "      <td>12.629629</td>\n",
       "    </tr>\n",
       "  </tbody>\n",
       "</table>\n",
       "<p>100 rows × 3 columns</p>\n",
       "</div>"
      ],
      "text/plain": [
       "    Condition_A  Condition_B  Condition_C\n",
       "0      5.496714     6.584629    12.357787\n",
       "1      4.861736     7.579355    12.560785\n",
       "2      5.647689     7.657285    13.083051\n",
       "3      6.523030     7.197723    13.053802\n",
       "4      4.765847     7.838714    10.622331\n",
       "..          ...          ...          ...\n",
       "95     3.536485     8.385317    11.307090\n",
       "96     5.296120     7.116143    12.899600\n",
       "97     5.261055     8.153725    12.307300\n",
       "98     5.005113     8.058209    12.812862\n",
       "99     4.765413     6.857030    12.629629\n",
       "\n",
       "[100 rows x 3 columns]"
      ]
     },
     "execution_count": 68,
     "metadata": {},
     "output_type": "execute_result"
    }
   ],
   "source": [
    "#Simulated dataframe:\n",
    "# Simulate Neuron Firing Rate Data for 3 Conditions\n",
    "np.random.seed(42)\n",
    "num_neurons = 100  # Number of neurons\n",
    "\n",
    "# Simulating firing rates (spikes per second) for three conditions\n",
    "condition_A = np.random.normal(loc=5, size=num_neurons)   # Baseline condition\n",
    "condition_B = np.random.normal(loc=8, size=num_neurons)   # Stimulus condition\n",
    "condition_C = np.random.normal(loc=12, size=num_neurons)  # Post-stimulus condition\n",
    "\n",
    "# Create DataFrame\n",
    "df = pd.DataFrame({\n",
    "    'Condition_A': condition_A,\n",
    "    'Condition_B': condition_B,\n",
    "    'Condition_C': condition_C\n",
    "})\n",
    "df"
   ]
  },
  {
   "cell_type": "code",
   "execution_count": 69,
   "id": "f261658b",
   "metadata": {},
   "outputs": [
    {
     "data": {
      "image/png": "[encoded data removed]",
      "text/plain": [
       "<Figure size 1500x500 with 3 Axes>"
      ]
     },
     "metadata": {},
     "output_type": "display_data"
    }
   ],
   "source": [
    "import numpy as np\n",
    "import pandas as pd\n",
    "import matplotlib.pyplot as plt\n",
    "\n",
    "# Plot Histograms for Each Condition\n",
    "fig, axs = plt.subplots(1, 3, figsize=(15, 5), sharey=True)\n",
    "\n",
    "axs[0].hist(df['Condition_A'], bins=15, edgecolor='black', alpha=0.7, color='b')\n",
    "axs[0].set_title('Condition A (Baseline)')\n",
    "axs[0].set_xlabel('Firing Rate (spikes/sec)')\n",
    "axs[0].set_ylabel('Frequency')\n",
    "axs[0].grid(True)\n",
    "\n",
    "axs[1].hist(df['Condition_B'], bins=15, edgecolor='black', alpha=0.7, color='g')\n",
    "axs[1].set_title('Condition B (Stimulus)')\n",
    "axs[1].set_xlabel('Firing Rate (spikes/sec)')\n",
    "axs[1].grid(True)\n",
    "\n",
    "axs[2].hist(df['Condition_C'], bins=15, edgecolor='black', alpha=0.7, color='r')\n",
    "axs[2].set_title('Condition C (Post-Stimulus)')\n",
    "axs[2].set_xlabel('Firing Rate (spikes/sec)')\n",
    "axs[2].grid(True)\n",
    "\n",
    "plt.suptitle('Distribution of Neuron Firing Rates Across Conditions', y=1.05)\n",
    "plt.tight_layout()\n",
    "plt.show()\n"
   ]
  },
  {
   "cell_type": "markdown",
   "id": "346a4f84",
   "metadata": {},
   "source": [
    "This example illustrates using Matplotlib to create subplots (axs) for comparing distributions of neuron firing rates across different conditions . Shared y-axis (sharey=True) ensures consistent scaling across subplots."
   ]
  },
  {
   "cell_type": "markdown",
   "id": "7490cf55",
   "metadata": {},
   "source": [
    "#### Do you think the data are normally distributed (from visual inspection alone)"
   ]
  },
  {
   "cell_type": "markdown",
   "id": "6d99f69a",
   "metadata": {},
   "source": []
  },
  {
   "cell_type": "markdown",
   "id": "63d9ee62",
   "metadata": {},
   "source": [
    "#### We can check for normality:"
   ]
  },
  {
   "cell_type": "markdown",
   "id": "417e12a4",
   "metadata": {},
   "source": [
    "### Shapiro-Wilk test "
   ]
  },
  {
   "cell_type": "markdown",
   "id": "ee233992",
   "metadata": {},
   "source": [
    "For the Shapiro test we will use another library with useful statistical tools, called scipy:\n"
   ]
  },
  {
   "cell_type": "code",
   "execution_count": 56,
   "id": "32daf34e",
   "metadata": {},
   "outputs": [],
   "source": [
    "from scipy.stats import shapiro\n"
   ]
  },
  {
   "cell_type": "code",
   "execution_count": 57,
   "id": "758ea5f8",
   "metadata": {},
   "outputs": [
    {
     "name": "stdout",
     "output_type": "stream",
     "text": [
      "Condition A is normally distributed.\n",
      "Condition B is normally distributed.\n",
      "Condition C is normally distributed.\n"
     ]
    }
   ],
   "source": [
    "\n",
    "# Perform Shapiro-Wilk normality test for each condition\n",
    "stat_A, p_A = shapiro(df['Condition_A'])\n",
    "if p_A < 0.05:\n",
    "    print(\"Condition A is NOT normally distributed.\")\n",
    "else:\n",
    "    print(\"Condition A is normally distributed.\")\n",
    "\n",
    "stat_B, p_B = shapiro(df['Condition_B'])\n",
    "if p_B < 0.05:\n",
    "    print(\"Condition B is NOT normally distributed.\")\n",
    "else:\n",
    "    print(\"Condition B is normally distributed.\")\n",
    "\n",
    "stat_C, p_C = shapiro(df['Condition_C'])\n",
    "if p_C < 0.05:\n",
    "    print(\"Condition C is NOT normally distributed.\")\n",
    "else:\n",
    "    print(\"Condition C is normally distributed.\")\n",
    "\n",
    "    "
   ]
  },
  {
   "cell_type": "markdown",
   "id": "d9461d09",
   "metadata": {},
   "source": [
    "### What kind of plot is suitable for our data?"
   ]
  },
  {
   "cell_type": "markdown",
   "id": "b4b0aa24",
   "metadata": {},
   "source": [
    "### 1st option: Barplot"
   ]
  },
  {
   "cell_type": "code",
   "execution_count": 58,
   "id": "2ef709a3",
   "metadata": {},
   "outputs": [
    {
     "data": {
      "image/png": "[encoded data removed]",
      "text/plain": [
       "<Figure size 800x600 with 1 Axes>"
      ]
     },
     "metadata": {},
     "output_type": "display_data"
    }
   ],
   "source": [
    "#Step 1: Calculate Mean and Standard Deviation\n",
    "means = df.mean()\n",
    "std_devs = df.std()\n",
    "\n",
    "# Step 2: Create Bar Plot with Error Bars\n",
    "plt.figure(figsize=(8, 6))\n",
    "plt.bar(means.index, means.values, yerr=std_devs.values, capsize=5, color=['b', 'g', 'r'], alpha=0.7, edgecolor='black')\n",
    "plt.xlabel('Experimental Condition')\n",
    "plt.ylabel('Mean Firing Rate (spikes/sec)')\n",
    "plt.title('Mean Neuron Firing Rates Across Conditions')\n",
    "plt.grid(axis='y', linestyle='--', alpha=0.7)\n",
    "plt.show()\n",
    "\n",
    "\n",
    "\n"
   ]
  },
  {
   "cell_type": "markdown",
   "id": "7f8d1f2b",
   "metadata": {},
   "source": [
    "### 2nd option: Boxplot"
   ]
  },
  {
   "cell_type": "markdown",
   "id": "a986452d",
   "metadata": {},
   "source": [
    "### Boxplots"
   ]
  },
  {
   "cell_type": "code",
   "execution_count": 70,
   "id": "198ef54d",
   "metadata": {},
   "outputs": [
    {
     "data": {
      "image/png": "[encoded data removed]",
      "text/plain": [
       "<Figure size 800x600 with 1 Axes>"
      ]
     },
     "metadata": {},
     "output_type": "display_data"
    }
   ],
   "source": [
    "plt.figure(figsize=(8, 6))\n",
    "df.boxplot(column=['Condition_A', 'Condition_B', 'Condition_C'])\n",
    "\n",
    "# Adding labels and title\n",
    "plt.ylabel('Firing Rate (spikes per second)')\n",
    "plt.title('Firing Rate Across Conditions')\n",
    "\n",
    "# Display the plot\n",
    "plt.show()"
   ]
  },
  {
   "cell_type": "markdown",
   "id": "6d6b49ee",
   "metadata": {},
   "source": [
    "## Introduction to statistics with python"
   ]
  },
  {
   "cell_type": "markdown",
   "id": "a470c99f",
   "metadata": {},
   "source": [
    "We can apply statistical tests in python using the pingouin library"
   ]
  },
  {
   "cell_type": "markdown",
   "id": "fcfb2cb4",
   "metadata": {},
   "source": [
    "The pingouin library is not preinstalled in our environment, so we need to install it before importing it."
   ]
  },
  {
   "cell_type": "code",
   "execution_count": 33,
   "id": "c3057c00",
   "metadata": {},
   "outputs": [
    {
     "name": "stdout",
     "output_type": "stream",
     "text": [
      "Collecting pingouin\n",
      "  Obtaining dependency information for pingouin from https://files.pythonhosted.org/packages/eb/56/6d3607f3a78aee1de8e5466f5171722c8e344266a12dc44ccb73d024b3b3/pingouin-0.5.5-py3-none-any.whl.metadata\n",
      "  Downloading pingouin-0.5.5-py3-none-any.whl.metadata (19 kB)\n",
      "Requirement already satisfied: matplotlib in /opt/conda/lib/python3.8/site-packages (from pingouin) (3.6.0)\n",
      "Requirement already satisfied: numpy in /opt/conda/lib/python3.8/site-packages (from pingouin) (1.23.3)\n",
      "Requirement already satisfied: pandas>=1.5 in /opt/conda/lib/python3.8/site-packages (from pingouin) (2.0.3)\n",
      "Collecting pandas-flavor (from pingouin)\n",
      "  Obtaining dependency information for pandas-flavor from https://files.pythonhosted.org/packages/67/1a/bfb5574b215f530c7ac5be684f33d60b299abbebd763c203aa31755f2fb2/pandas_flavor-0.6.0-py3-none-any.whl.metadata\n",
      "  Downloading pandas_flavor-0.6.0-py3-none-any.whl.metadata (6.3 kB)\n",
      "Collecting scikit-learn>=1.2 (from pingouin)\n",
      "  Obtaining dependency information for scikit-learn>=1.2 from https://files.pythonhosted.org/packages/49/81/91585dc83ec81dcd52e934f6708bf350b06949d8bfa13bf3b711b851c3f4/scikit_learn-1.3.2-cp38-cp38-manylinux_2_17_aarch64.manylinux2014_aarch64.whl.metadata\n",
      "  Downloading scikit_learn-1.3.2-cp38-cp38-manylinux_2_17_aarch64.manylinux2014_aarch64.whl.metadata (11 kB)\n",
      "Requirement already satisfied: scipy in /opt/conda/lib/python3.8/site-packages (from pingouin) (1.9.1)\n",
      "Requirement already satisfied: seaborn in /opt/conda/lib/python3.8/site-packages (from pingouin) (0.11.0)\n",
      "Requirement already satisfied: statsmodels in /opt/conda/lib/python3.8/site-packages (from pingouin) (0.13.2)\n",
      "Collecting tabulate (from pingouin)\n",
      "  Obtaining dependency information for tabulate from https://files.pythonhosted.org/packages/40/44/4a5f08c96eb108af5cb50b41f76142f0afa346dfa99d5296fe7202a11854/tabulate-0.9.0-py3-none-any.whl.metadata\n",
      "  Downloading tabulate-0.9.0-py3-none-any.whl.metadata (34 kB)\n",
      "Requirement already satisfied: python-dateutil>=2.8.2 in /opt/conda/lib/python3.8/site-packages (from pandas>=1.5->pingouin) (2.8.2)\n",
      "Requirement already satisfied: pytz>=2020.1 in /opt/conda/lib/python3.8/site-packages (from pandas>=1.5->pingouin) (2022.4)\n",
      "Requirement already satisfied: tzdata>=2022.1 in /opt/conda/lib/python3.8/site-packages (from pandas>=1.5->pingouin) (2023.3)\n",
      "Requirement already satisfied: joblib>=1.1.1 in /opt/conda/lib/python3.8/site-packages (from scikit-learn>=1.2->pingouin) (1.2.0)\n",
      "Requirement already satisfied: threadpoolctl>=2.0.0 in /opt/conda/lib/python3.8/site-packages (from scikit-learn>=1.2->pingouin) (3.1.0)\n",
      "Requirement already satisfied: contourpy>=1.0.1 in /opt/conda/lib/python3.8/site-packages (from matplotlib->pingouin) (1.0.5)\n",
      "Requirement already satisfied: cycler>=0.10 in /opt/conda/lib/python3.8/site-packages (from matplotlib->pingouin) (0.11.0)\n",
      "Requirement already satisfied: fonttools>=4.22.0 in /opt/conda/lib/python3.8/site-packages (from matplotlib->pingouin) (4.37.4)\n",
      "Requirement already satisfied: kiwisolver>=1.0.1 in /opt/conda/lib/python3.8/site-packages (from matplotlib->pingouin) (1.4.4)\n",
      "Requirement already satisfied: packaging>=20.0 in /opt/conda/lib/python3.8/site-packages (from matplotlib->pingouin) (21.3)\n",
      "Requirement already satisfied: pillow>=6.2.0 in /opt/conda/lib/python3.8/site-packages (from matplotlib->pingouin) (9.2.0)\n",
      "Requirement already satisfied: pyparsing>=2.2.1 in /opt/conda/lib/python3.8/site-packages (from matplotlib->pingouin) (3.0.9)\n",
      "Requirement already satisfied: xarray in /opt/conda/lib/python3.8/site-packages (from pandas-flavor->pingouin) (2023.1.0)\n",
      "Requirement already satisfied: patsy>=0.5.2 in /opt/conda/lib/python3.8/site-packages (from statsmodels->pingouin) (0.5.2)\n",
      "Requirement already satisfied: six in /opt/conda/lib/python3.8/site-packages (from patsy>=0.5.2->statsmodels->pingouin) (1.16.0)\n",
      "Downloading pingouin-0.5.5-py3-none-any.whl (204 kB)\n",
      "\u001b[2K   \u001b[90m━━━━━━━━━━━━━━━━━━━━━━━━━━━━━━━━━━━━━━━━\u001b[0m \u001b[32m204.4/204.4 kB\u001b[0m \u001b[31m1.8 MB/s\u001b[0m eta \u001b[36m0:00:00\u001b[0ma \u001b[36m0:00:01\u001b[0m\n",
      "\u001b[?25hDownloading scikit_learn-1.3.2-cp38-cp38-manylinux_2_17_aarch64.manylinux2014_aarch64.whl (10.5 MB)\n",
      "\u001b[2K   \u001b[90m━━━━━━━━━━━━━━━━━━━━━━━━━━━━━━━━━━━━━━━━\u001b[0m \u001b[32m10.5/10.5 MB\u001b[0m \u001b[31m1.5 MB/s\u001b[0m eta \u001b[36m0:00:00\u001b[0m00:01\u001b[0m00:01\u001b[0m\n",
      "\u001b[?25hDownloading pandas_flavor-0.6.0-py3-none-any.whl (7.2 kB)\n",
      "Downloading tabulate-0.9.0-py3-none-any.whl (35 kB)\n",
      "Installing collected packages: tabulate, scikit-learn, pandas-flavor, pingouin\n",
      "  Attempting uninstall: scikit-learn\n",
      "    Found existing installation: scikit-learn 1.1.2\n",
      "    Uninstalling scikit-learn-1.1.2:\n",
      "      Successfully uninstalled scikit-learn-1.1.2\n",
      "Successfully installed pandas-flavor-0.6.0 pingouin-0.5.5 scikit-learn-1.3.2 tabulate-0.9.0\n",
      "\n",
      "\u001b[1m[\u001b[0m\u001b[34;49mnotice\u001b[0m\u001b[1;39;49m]\u001b[0m\u001b[39;49m A new release of pip is available: \u001b[0m\u001b[31;49m23.2.1\u001b[0m\u001b[39;49m -> \u001b[0m\u001b[32;49m25.0.1\u001b[0m\n",
      "\u001b[1m[\u001b[0m\u001b[34;49mnotice\u001b[0m\u001b[1;39;49m]\u001b[0m\u001b[39;49m To update, run: \u001b[0m\u001b[32;49mpip install --upgrade pip\u001b[0m\n",
      "Note: you may need to restart the kernel to use updated packages.\n"
     ]
    }
   ],
   "source": [
    "pip install pingouin"
   ]
  },
  {
   "cell_type": "code",
   "execution_count": 34,
   "id": "e9bcd4de",
   "metadata": {},
   "outputs": [],
   "source": [
    "import pingouin as pn"
   ]
  },
  {
   "cell_type": "markdown",
   "id": "39bce496",
   "metadata": {},
   "source": [
    "### a. One way ANOVA\n"
   ]
  },
  {
   "cell_type": "markdown",
   "id": "cdf4349c",
   "metadata": {},
   "source": [
    "Let's assume we're measuring blood glucose levels (mg/dL) in three different groups of patients:\n",
    "\n",
    "Healthy individuals\n",
    "\n"
   ]
  },
  {
   "cell_type": "markdown",
   "id": "cc5d4c77",
   "metadata": {},
   "source": [
    "Pre-diabetic individuals\n"
   ]
  },
  {
   "cell_type": "markdown",
   "id": "fb74c1ab",
   "metadata": {},
   "source": [
    "Diabetic individuals"
   ]
  },
  {
   "cell_type": "code",
   "execution_count": 5,
   "id": "66cb7d5c",
   "metadata": {},
   "outputs": [
    {
     "data": {
      "text/html": [
       "<div>\n",
       "<style scoped>\n",
       "    .dataframe tbody tr th:only-of-type {\n",
       "        vertical-align: middle;\n",
       "    }\n",
       "\n",
       "    .dataframe tbody tr th {\n",
       "        vertical-align: top;\n",
       "    }\n",
       "\n",
       "    .dataframe thead th {\n",
       "        text-align: right;\n",
       "    }\n",
       "</style>\n",
       "<table border=\"1\" class=\"dataframe\">\n",
       "  <thead>\n",
       "    <tr style=\"text-align: right;\">\n",
       "      <th></th>\n",
       "      <th>Group</th>\n",
       "      <th>Glucose_Level</th>\n",
       "    </tr>\n",
       "  </thead>\n",
       "  <tbody>\n",
       "    <tr>\n",
       "      <th>0</th>\n",
       "      <td>Healthy</td>\n",
       "      <td>94.967142</td>\n",
       "    </tr>\n",
       "    <tr>\n",
       "      <th>1</th>\n",
       "      <td>Healthy</td>\n",
       "      <td>88.617357</td>\n",
       "    </tr>\n",
       "    <tr>\n",
       "      <th>2</th>\n",
       "      <td>Healthy</td>\n",
       "      <td>96.476885</td>\n",
       "    </tr>\n",
       "    <tr>\n",
       "      <th>3</th>\n",
       "      <td>Healthy</td>\n",
       "      <td>105.230299</td>\n",
       "    </tr>\n",
       "    <tr>\n",
       "      <th>4</th>\n",
       "      <td>Healthy</td>\n",
       "      <td>87.658466</td>\n",
       "    </tr>\n",
       "    <tr>\n",
       "      <th>...</th>\n",
       "      <td>...</td>\n",
       "      <td>...</td>\n",
       "    </tr>\n",
       "    <tr>\n",
       "      <th>145</th>\n",
       "      <td>Diabetic</td>\n",
       "      <td>151.727343</td>\n",
       "    </tr>\n",
       "    <tr>\n",
       "      <th>146</th>\n",
       "      <td>Diabetic</td>\n",
       "      <td>121.445739</td>\n",
       "    </tr>\n",
       "    <tr>\n",
       "      <th>147</th>\n",
       "      <td>Diabetic</td>\n",
       "      <td>120.193151</td>\n",
       "    </tr>\n",
       "    <tr>\n",
       "      <th>148</th>\n",
       "      <td>Diabetic</td>\n",
       "      <td>147.829123</td>\n",
       "    </tr>\n",
       "    <tr>\n",
       "      <th>149</th>\n",
       "      <td>Diabetic</td>\n",
       "      <td>144.454770</td>\n",
       "    </tr>\n",
       "  </tbody>\n",
       "</table>\n",
       "<p>150 rows × 2 columns</p>\n",
       "</div>"
      ],
      "text/plain": [
       "        Group  Glucose_Level\n",
       "0     Healthy      94.967142\n",
       "1     Healthy      88.617357\n",
       "2     Healthy      96.476885\n",
       "3     Healthy     105.230299\n",
       "4     Healthy      87.658466\n",
       "..        ...            ...\n",
       "145  Diabetic     151.727343\n",
       "146  Diabetic     121.445739\n",
       "147  Diabetic     120.193151\n",
       "148  Diabetic     147.829123\n",
       "149  Diabetic     144.454770\n",
       "\n",
       "[150 rows x 2 columns]"
      ]
     },
     "execution_count": 5,
     "metadata": {},
     "output_type": "execute_result"
    }
   ],
   "source": [
    "import numpy as np\n",
    "import pandas as pd\n",
    "import pingouin as pg\n",
    "import matplotlib.pyplot as plt\n",
    "\n",
    "# Simulating biological data for blood glucose levels in 3 groups\n",
    "np.random.seed(42)\n",
    "\n",
    "groups = ['Healthy', 'Pre-Diabetic', 'Diabetic']\n",
    "data = {\n",
    "    'Group': np.repeat(groups, 50),  # 50 samples per group\n",
    "    'Glucose_Level': np.concatenate([\n",
    "        np.random.normal(loc=90, scale=10, size=50),   # Healthy (normal glucose)\n",
    "        np.random.normal(loc=110, scale=12, size=50),  # Pre-Diabetic (elevated glucose)\n",
    "        np.random.normal(loc=140, scale=15, size=50)   # Diabetic (high glucose)\n",
    "    ])\n",
    "}\n",
    "\n",
    "df = pd.DataFrame(data)\n",
    "df"
   ]
  },
  {
   "cell_type": "markdown",
   "id": "a29e8c0c",
   "metadata": {},
   "source": [
    "#### Can we perform ANOVA?"
   ]
  },
  {
   "cell_type": "markdown",
   "id": "0d6076e3",
   "metadata": {},
   "source": [
    "#### One of the conditions that needs to be met is the condition of normality."
   ]
  },
  {
   "cell_type": "markdown",
   "id": "5fa29f97",
   "metadata": {},
   "source": [
    "#### Is normality violated? "
   ]
  },
  {
   "cell_type": "markdown",
   "id": "a6cbb0ce",
   "metadata": {},
   "source": [
    "### Shapiro-Wilk test"
   ]
  },
  {
   "cell_type": "code",
   "execution_count": 6,
   "id": "10a48625",
   "metadata": {},
   "outputs": [],
   "source": [
    "\n",
    "#this is the dataset in a configuration more conducive to perform the Shapiro test:\n",
    "df['Subject'] = df.groupby('Group').cumcount()  # Create a sample ID for each group\n",
    "data = df.pivot(index='Subject', columns='Group', values='Glucose_Level').reset_index()\n",
    "\n",
    "#Perform the Shapiro test on the dataset \"data\" to check for normality. Remember, we have 3 conditions: \n",
    "#Healthy, Pre-Diabetic and Diabetic (Enter your code below):\n",
    "\n",
    "\n",
    "\n",
    "\n",
    "\n",
    "\n",
    "\n",
    "\n",
    "\n"
   ]
  },
  {
   "cell_type": "code",
   "execution_count": 7,
   "id": "6bd76470",
   "metadata": {},
   "outputs": [
    {
     "name": "stdout",
     "output_type": "stream",
     "text": [
      "  Source  ddof1  ddof2          F         p-unc       np2\n",
      "0  Group      2    147  234.51826  1.827045e-46  0.761378\n"
     ]
    }
   ],
   "source": [
    "\n",
    "# Performing one-way ANOVA\n",
    "anova_results = pg.anova(dv='Glucose_Level', between='Group', data=df)\n",
    "\n",
    "# Display results\n",
    "print(anova_results)\n"
   ]
  },
  {
   "cell_type": "markdown",
   "id": "93acacfc",
   "metadata": {},
   "source": [
    "But... which pairwise comparisons are statistically significant?"
   ]
  },
  {
   "cell_type": "markdown",
   "id": "06c9403f",
   "metadata": {},
   "source": [
    "### c. Post - Hoc tests (Tukey’s HSD)"
   ]
  },
  {
   "cell_type": "code",
   "execution_count": 8,
   "id": "3738af15",
   "metadata": {},
   "outputs": [
    {
     "data": {
      "text/html": [
       "<div>\n",
       "<style scoped>\n",
       "    .dataframe tbody tr th:only-of-type {\n",
       "        vertical-align: middle;\n",
       "    }\n",
       "\n",
       "    .dataframe tbody tr th {\n",
       "        vertical-align: top;\n",
       "    }\n",
       "\n",
       "    .dataframe thead th {\n",
       "        text-align: right;\n",
       "    }\n",
       "</style>\n",
       "<table border=\"1\" class=\"dataframe\">\n",
       "  <thead>\n",
       "    <tr style=\"text-align: right;\">\n",
       "      <th></th>\n",
       "      <th>A</th>\n",
       "      <th>B</th>\n",
       "      <th>mean(A)</th>\n",
       "      <th>mean(B)</th>\n",
       "      <th>diff</th>\n",
       "      <th>se</th>\n",
       "      <th>T</th>\n",
       "      <th>p-tukey</th>\n",
       "      <th>hedges</th>\n",
       "    </tr>\n",
       "  </thead>\n",
       "  <tbody>\n",
       "    <tr>\n",
       "      <th>0</th>\n",
       "      <td>Diabetic</td>\n",
       "      <td>Healthy</td>\n",
       "      <td>139.410686</td>\n",
       "      <td>87.745261</td>\n",
       "      <td>51.665426</td>\n",
       "      <td>2.39233</td>\n",
       "      <td>21.596277</td>\n",
       "      <td>2.131628e-14</td>\n",
       "      <td>4.058481</td>\n",
       "    </tr>\n",
       "    <tr>\n",
       "      <th>1</th>\n",
       "      <td>Diabetic</td>\n",
       "      <td>Pre-Diabetic</td>\n",
       "      <td>139.410686</td>\n",
       "      <td>110.213370</td>\n",
       "      <td>29.197316</td>\n",
       "      <td>2.39233</td>\n",
       "      <td>12.204551</td>\n",
       "      <td>2.131628e-14</td>\n",
       "      <td>2.215418</td>\n",
       "    </tr>\n",
       "    <tr>\n",
       "      <th>2</th>\n",
       "      <td>Healthy</td>\n",
       "      <td>Pre-Diabetic</td>\n",
       "      <td>87.745261</td>\n",
       "      <td>110.213370</td>\n",
       "      <td>-22.468109</td>\n",
       "      <td>2.39233</td>\n",
       "      <td>-9.391726</td>\n",
       "      <td>2.164935e-14</td>\n",
       "      <td>-2.245039</td>\n",
       "    </tr>\n",
       "  </tbody>\n",
       "</table>\n",
       "</div>"
      ],
      "text/plain": [
       "          A             B     mean(A)     mean(B)       diff       se  \\\n",
       "0  Diabetic       Healthy  139.410686   87.745261  51.665426  2.39233   \n",
       "1  Diabetic  Pre-Diabetic  139.410686  110.213370  29.197316  2.39233   \n",
       "2   Healthy  Pre-Diabetic   87.745261  110.213370 -22.468109  2.39233   \n",
       "\n",
       "           T       p-tukey    hedges  \n",
       "0  21.596277  2.131628e-14  4.058481  \n",
       "1  12.204551  2.131628e-14  2.215418  \n",
       "2  -9.391726  2.164935e-14 -2.245039  "
      ]
     },
     "execution_count": 8,
     "metadata": {},
     "output_type": "execute_result"
    }
   ],
   "source": [
    "# Performing Tukey's HSD post-hoc test\n",
    "posthoc_results = pg.pairwise_tukey(data=df, dv='Glucose_Level', between='Group')\n",
    "\n",
    "# Display results\n",
    "posthoc_results\n"
   ]
  },
  {
   "cell_type": "markdown",
   "id": "94706435",
   "metadata": {},
   "source": [
    "What if the assumption of normality was violated?"
   ]
  },
  {
   "cell_type": "markdown",
   "id": "1c371fa4",
   "metadata": {},
   "source": [
    "We would perform Kruskal-Wallis instead:"
   ]
  },
  {
   "cell_type": "markdown",
   "id": "dea2a727",
   "metadata": {},
   "source": [
    "### d. Kruskal-Wallis"
   ]
  },
  {
   "cell_type": "code",
   "execution_count": 9,
   "id": "020c3d17",
   "metadata": {},
   "outputs": [
    {
     "data": {
      "text/html": [
       "<div>\n",
       "<style scoped>\n",
       "    .dataframe tbody tr th:only-of-type {\n",
       "        vertical-align: middle;\n",
       "    }\n",
       "\n",
       "    .dataframe tbody tr th {\n",
       "        vertical-align: top;\n",
       "    }\n",
       "\n",
       "    .dataframe thead th {\n",
       "        text-align: right;\n",
       "    }\n",
       "</style>\n",
       "<table border=\"1\" class=\"dataframe\">\n",
       "  <thead>\n",
       "    <tr style=\"text-align: right;\">\n",
       "      <th></th>\n",
       "      <th>Source</th>\n",
       "      <th>ddof1</th>\n",
       "      <th>H</th>\n",
       "      <th>p-unc</th>\n",
       "    </tr>\n",
       "  </thead>\n",
       "  <tbody>\n",
       "    <tr>\n",
       "      <th>Kruskal</th>\n",
       "      <td>Group</td>\n",
       "      <td>2</td>\n",
       "      <td>118.591979</td>\n",
       "      <td>1.770431e-26</td>\n",
       "    </tr>\n",
       "  </tbody>\n",
       "</table>\n",
       "</div>"
      ],
      "text/plain": [
       "        Source  ddof1           H         p-unc\n",
       "Kruskal  Group      2  118.591979  1.770431e-26"
      ]
     },
     "execution_count": 9,
     "metadata": {},
     "output_type": "execute_result"
    }
   ],
   "source": [
    "kruskal_results = pg.kruskal(dv='Glucose_Level', between='Group', data=df)\n",
    "kruskal_results"
   ]
  },
  {
   "cell_type": "markdown",
   "id": "a41812ea",
   "metadata": {},
   "source": [
    "### Note: In this case, tha data were presented in the long form: "
   ]
  },
  {
   "cell_type": "markdown",
   "id": "3eaaf15c",
   "metadata": {},
   "source": [
    "There was one column storing all the glucose values and a column called \"Group\" specifying the population from which the values where drawn"
   ]
  },
  {
   "cell_type": "code",
   "execution_count": 172,
   "id": "4dc6575f",
   "metadata": {},
   "outputs": [
    {
     "data": {
      "text/html": [
       "<div>\n",
       "<style scoped>\n",
       "    .dataframe tbody tr th:only-of-type {\n",
       "        vertical-align: middle;\n",
       "    }\n",
       "\n",
       "    .dataframe tbody tr th {\n",
       "        vertical-align: top;\n",
       "    }\n",
       "\n",
       "    .dataframe thead th {\n",
       "        text-align: right;\n",
       "    }\n",
       "</style>\n",
       "<table border=\"1\" class=\"dataframe\">\n",
       "  <thead>\n",
       "    <tr style=\"text-align: right;\">\n",
       "      <th></th>\n",
       "      <th>Group</th>\n",
       "      <th>Glucose_Level</th>\n",
       "    </tr>\n",
       "  </thead>\n",
       "  <tbody>\n",
       "    <tr>\n",
       "      <th>0</th>\n",
       "      <td>Healthy</td>\n",
       "      <td>94.967142</td>\n",
       "    </tr>\n",
       "    <tr>\n",
       "      <th>1</th>\n",
       "      <td>Healthy</td>\n",
       "      <td>88.617357</td>\n",
       "    </tr>\n",
       "    <tr>\n",
       "      <th>2</th>\n",
       "      <td>Healthy</td>\n",
       "      <td>96.476885</td>\n",
       "    </tr>\n",
       "    <tr>\n",
       "      <th>3</th>\n",
       "      <td>Healthy</td>\n",
       "      <td>105.230299</td>\n",
       "    </tr>\n",
       "    <tr>\n",
       "      <th>4</th>\n",
       "      <td>Healthy</td>\n",
       "      <td>87.658466</td>\n",
       "    </tr>\n",
       "    <tr>\n",
       "      <th>...</th>\n",
       "      <td>...</td>\n",
       "      <td>...</td>\n",
       "    </tr>\n",
       "    <tr>\n",
       "      <th>145</th>\n",
       "      <td>Diabetic</td>\n",
       "      <td>151.727343</td>\n",
       "    </tr>\n",
       "    <tr>\n",
       "      <th>146</th>\n",
       "      <td>Diabetic</td>\n",
       "      <td>121.445739</td>\n",
       "    </tr>\n",
       "    <tr>\n",
       "      <th>147</th>\n",
       "      <td>Diabetic</td>\n",
       "      <td>120.193151</td>\n",
       "    </tr>\n",
       "    <tr>\n",
       "      <th>148</th>\n",
       "      <td>Diabetic</td>\n",
       "      <td>147.829123</td>\n",
       "    </tr>\n",
       "    <tr>\n",
       "      <th>149</th>\n",
       "      <td>Diabetic</td>\n",
       "      <td>144.454770</td>\n",
       "    </tr>\n",
       "  </tbody>\n",
       "</table>\n",
       "<p>150 rows × 2 columns</p>\n",
       "</div>"
      ],
      "text/plain": [
       "        Group  Glucose_Level\n",
       "0     Healthy      94.967142\n",
       "1     Healthy      88.617357\n",
       "2     Healthy      96.476885\n",
       "3     Healthy     105.230299\n",
       "4     Healthy      87.658466\n",
       "..        ...            ...\n",
       "145  Diabetic     151.727343\n",
       "146  Diabetic     121.445739\n",
       "147  Diabetic     120.193151\n",
       "148  Diabetic     147.829123\n",
       "149  Diabetic     144.454770\n",
       "\n",
       "[150 rows x 2 columns]"
      ]
     },
     "execution_count": 172,
     "metadata": {},
     "output_type": "execute_result"
    }
   ],
   "source": [
    " df"
   ]
  },
  {
   "cell_type": "markdown",
   "id": "241ecb21",
   "metadata": {},
   "source": [
    "What if the data where stored in 3 columns instead? One for each condition:"
   ]
  },
  {
   "cell_type": "code",
   "execution_count": 181,
   "id": "5d5c683a",
   "metadata": {},
   "outputs": [
    {
     "data": {
      "text/html": [
       "<div>\n",
       "<style scoped>\n",
       "    .dataframe tbody tr th:only-of-type {\n",
       "        vertical-align: middle;\n",
       "    }\n",
       "\n",
       "    .dataframe tbody tr th {\n",
       "        vertical-align: top;\n",
       "    }\n",
       "\n",
       "    .dataframe thead th {\n",
       "        text-align: right;\n",
       "    }\n",
       "</style>\n",
       "<table border=\"1\" class=\"dataframe\">\n",
       "  <thead>\n",
       "    <tr style=\"text-align: right;\">\n",
       "      <th></th>\n",
       "      <th>Healthy</th>\n",
       "      <th>Pre-Diabetic</th>\n",
       "      <th>Diabetic</th>\n",
       "    </tr>\n",
       "  </thead>\n",
       "  <tbody>\n",
       "    <tr>\n",
       "      <th>0</th>\n",
       "      <td>94.967142</td>\n",
       "      <td>113.889008</td>\n",
       "      <td>118.769439</td>\n",
       "    </tr>\n",
       "    <tr>\n",
       "      <th>1</th>\n",
       "      <td>88.617357</td>\n",
       "      <td>105.379013</td>\n",
       "      <td>133.690320</td>\n",
       "    </tr>\n",
       "    <tr>\n",
       "      <th>2</th>\n",
       "      <td>96.476885</td>\n",
       "      <td>101.876936</td>\n",
       "      <td>134.859282</td>\n",
       "    </tr>\n",
       "    <tr>\n",
       "      <th>3</th>\n",
       "      <td>105.230299</td>\n",
       "      <td>117.340115</td>\n",
       "      <td>127.965841</td>\n",
       "    </tr>\n",
       "    <tr>\n",
       "      <th>4</th>\n",
       "      <td>87.658466</td>\n",
       "      <td>122.371994</td>\n",
       "      <td>137.580714</td>\n",
       "    </tr>\n",
       "  </tbody>\n",
       "</table>\n",
       "</div>"
      ],
      "text/plain": [
       "      Healthy  Pre-Diabetic    Diabetic\n",
       "0   94.967142    113.889008  118.769439\n",
       "1   88.617357    105.379013  133.690320\n",
       "2   96.476885    101.876936  134.859282\n",
       "3  105.230299    117.340115  127.965841\n",
       "4   87.658466    122.371994  137.580714"
      ]
     },
     "execution_count": 181,
     "metadata": {},
     "output_type": "execute_result"
    }
   ],
   "source": [
    "import numpy as np\n",
    "import pandas as pd\n",
    "\n",
    "# Simulating biological data for blood glucose levels in 3 groups\n",
    "np.random.seed(42)\n",
    "\n",
    "num_samples = 50  # Number of samples per group\n",
    "\n",
    "# Generate synthetic data\n",
    "healthy = np.random.normal(loc=90, scale=10, size=num_samples)   # Healthy (normal glucose)\n",
    "prediabetic = np.random.normal(loc=110, scale=12, size=num_samples)  # Pre-Diabetic (elevated glucose)\n",
    "diabetic = np.random.normal(loc=140, scale=15, size=num_samples)   # Diabetic (high glucose)\n",
    "\n",
    "# Create a DataFrame in wide format\n",
    "df_wide = pd.DataFrame({\n",
    "    'Healthy': healthy,\n",
    "    'Pre-Diabetic': prediabetic,\n",
    "    'Diabetic': diabetic\n",
    "})\n",
    "\n",
    "# Display the DataFrame\n",
    "df_wide.head()\n"
   ]
  },
  {
   "cell_type": "markdown",
   "id": "512219fa",
   "metadata": {},
   "source": [
    "In that case, in order to perform ANOVA/Kruskal-Wallis we need to convert the data to the long format before running the respective scripts:"
   ]
  },
  {
   "cell_type": "markdown",
   "id": "9ebedae7",
   "metadata": {},
   "source": [
    "You can do that using the pd.melt() function:"
   ]
  },
  {
   "cell_type": "code",
   "execution_count": 184,
   "id": "e198202f",
   "metadata": {},
   "outputs": [
    {
     "name": "stdout",
     "output_type": "stream",
     "text": [
      "        Group  Glucose_Level\n",
      "0     Healthy      94.967142\n",
      "1     Healthy      88.617357\n",
      "2     Healthy      96.476885\n",
      "3     Healthy     105.230299\n",
      "4     Healthy      87.658466\n",
      "..        ...            ...\n",
      "145  Diabetic     151.727343\n",
      "146  Diabetic     121.445739\n",
      "147  Diabetic     120.193151\n",
      "148  Diabetic     147.829123\n",
      "149  Diabetic     144.454770\n",
      "\n",
      "[150 rows x 2 columns]\n"
     ]
    }
   ],
   "source": [
    "# Convert the wide-format DataFrame to long format\n",
    "df_long = df_wide.melt(var_name='Group', value_name='Glucose_Level')\n",
    "\n",
    "# Display the transformed long-format DataFrame\n",
    "print(df_long)\n"
   ]
  },
  {
   "cell_type": "markdown",
   "id": "d9f05f7f",
   "metadata": {},
   "source": [
    "# Excercise"
   ]
  },
  {
   "cell_type": "markdown",
   "id": "45427ba0",
   "metadata": {},
   "source": [
    "These are some simulated data: 50 subjects and 3 conditions (only the first 5 rows/subjects are visualised in the table below)"
   ]
  },
  {
   "cell_type": "code",
   "execution_count": 11,
   "id": "c2a199bb",
   "metadata": {},
   "outputs": [
    {
     "data": {
      "text/html": [
       "<div>\n",
       "<style scoped>\n",
       "    .dataframe tbody tr th:only-of-type {\n",
       "        vertical-align: middle;\n",
       "    }\n",
       "\n",
       "    .dataframe tbody tr th {\n",
       "        vertical-align: top;\n",
       "    }\n",
       "\n",
       "    .dataframe thead th {\n",
       "        text-align: right;\n",
       "    }\n",
       "</style>\n",
       "<table border=\"1\" class=\"dataframe\">\n",
       "  <thead>\n",
       "    <tr style=\"text-align: right;\">\n",
       "      <th></th>\n",
       "      <th>Condition_A</th>\n",
       "      <th>Condition_B</th>\n",
       "      <th>Condition_C</th>\n",
       "    </tr>\n",
       "  </thead>\n",
       "  <tbody>\n",
       "    <tr>\n",
       "      <th>0</th>\n",
       "      <td>83.715541</td>\n",
       "      <td>90.588720</td>\n",
       "      <td>142.841094</td>\n",
       "    </tr>\n",
       "    <tr>\n",
       "      <th>1</th>\n",
       "      <td>114.960182</td>\n",
       "      <td>94.418177</td>\n",
       "      <td>90.442241</td>\n",
       "    </tr>\n",
       "    <tr>\n",
       "      <th>2</th>\n",
       "      <td>104.244677</td>\n",
       "      <td>136.155683</td>\n",
       "      <td>144.245293</td>\n",
       "    </tr>\n",
       "    <tr>\n",
       "      <th>3</th>\n",
       "      <td>77.405579</td>\n",
       "      <td>98.029059</td>\n",
       "      <td>181.966079</td>\n",
       "    </tr>\n",
       "    <tr>\n",
       "      <th>4</th>\n",
       "      <td>91.320996</td>\n",
       "      <td>110.445248</td>\n",
       "      <td>129.507480</td>\n",
       "    </tr>\n",
       "  </tbody>\n",
       "</table>\n",
       "</div>"
      ],
      "text/plain": [
       "   Condition_A  Condition_B  Condition_C\n",
       "0    83.715541    90.588720   142.841094\n",
       "1   114.960182    94.418177    90.442241\n",
       "2   104.244677   136.155683   144.245293\n",
       "3    77.405579    98.029059   181.966079\n",
       "4    91.320996   110.445248   129.507480"
      ]
     },
     "execution_count": 11,
     "metadata": {},
     "output_type": "execute_result"
    }
   ],
   "source": [
    "import numpy as np\n",
    "import pandas as pd\n",
    "import matplotlib.pyplot as plt\n",
    "import pingouin as pg\n",
    "from scipy.stats import shapiro\n",
    "\n",
    "# Simulate Data for 50 Subjects in 3 Conditions\n",
    "np.random.seed(123)\n",
    "num_subjects = 50\n",
    "subject_ids = np.arange(1, num_subjects + 1)\n",
    "condition_A = np.random.normal(loc=100, scale=15, size=num_subjects)  # Baseline Condition A\n",
    "condition_B = np.random.normal(loc=110, scale=15, size=num_subjects)  # Condition B\n",
    "condition_C = np.random.normal(loc=130, scale=20, size=num_subjects)  # Condition C\n",
    "\n",
    "# Create DataFrame\n",
    "data = pd.DataFrame({\n",
    "    'Condition_A': condition_A,\n",
    "    'Condition_B': condition_B,\n",
    "    'Condition_C': condition_C\n",
    "})\n",
    "data.head(5)"
   ]
  },
  {
   "cell_type": "markdown",
   "id": "1beab34a",
   "metadata": {},
   "source": [
    "#### 1. Calculate the mean value per condition \n"
   ]
  },
  {
   "cell_type": "markdown",
   "id": "8f9aa8f5",
   "metadata": {},
   "source": [
    "hint: you can use np.mean that we introduced in the previous workshop, OR use the PANDAS function for mean we introduced in this workshop"
   ]
  },
  {
   "cell_type": "code",
   "execution_count": null,
   "id": "5595500c",
   "metadata": {},
   "outputs": [],
   "source": [
    "\n",
    "\n",
    "\n",
    "\n",
    "\n",
    "\n"
   ]
  },
  {
   "cell_type": "markdown",
   "id": "c4b369e4",
   "metadata": {},
   "source": [
    "#### 2. Plot the histogram for each condition. (Note: visualise the three histograms as subplots of the same figure)"
   ]
  },
  {
   "cell_type": "markdown",
   "id": "1d2e0a8a",
   "metadata": {},
   "source": [
    "Through visual inspection alone, are the data normally distributed?"
   ]
  },
  {
   "cell_type": "code",
   "execution_count": null,
   "id": "bd80a41e",
   "metadata": {},
   "outputs": [],
   "source": [
    "\n",
    "\n",
    "\n",
    "\n",
    "\n",
    "\n",
    "\n",
    "\n",
    "\n",
    "\n"
   ]
  },
  {
   "cell_type": "markdown",
   "id": "88b58ec1",
   "metadata": {},
   "source": [
    "#### 3. Perform the appropriate statistical test to check for normality and report your results"
   ]
  },
  {
   "cell_type": "code",
   "execution_count": null,
   "id": "3e5e498e",
   "metadata": {},
   "outputs": [],
   "source": [
    " \n",
    "    \n",
    "    \n",
    "    \n",
    "    \n",
    "    \n",
    "    \n",
    "    \n",
    "    "
   ]
  },
  {
   "cell_type": "markdown",
   "id": "ba3649a7",
   "metadata": {},
   "source": [
    "#### 4 a. Use the appropriate statistical test to compare the 3 conditions. (hint: remeber to configure your dataset in the correct format!)  "
   ]
  },
  {
   "cell_type": "markdown",
   "id": "ddbac30b",
   "metadata": {},
   "source": [
    "#### b. If the comparison is significant, identify the pairwise comparisons that are statistically significant  "
   ]
  },
  {
   "cell_type": "code",
   "execution_count": null,
   "id": "4cd715cb",
   "metadata": {},
   "outputs": [],
   "source": [
    "\n",
    "\n",
    "\n",
    "\n",
    "\n",
    "\n",
    "\n"
   ]
  },
  {
   "cell_type": "code",
   "execution_count": null,
   "id": "43867475",
   "metadata": {},
   "outputs": [],
   "source": [
    "\n",
    "\n",
    "\n",
    "\n",
    "\n"
   ]
  },
  {
   "cell_type": "code",
   "execution_count": null,
   "id": "ea565eba",
   "metadata": {},
   "outputs": [],
   "source": [
    "\n",
    "\n",
    "\n",
    "\n",
    "\n",
    "\n"
   ]
  },
  {
   "cell_type": "markdown",
   "id": "26fa5f45",
   "metadata": {},
   "source": [
    "#### 5. Create a boxplot to visualise the median value for each condition"
   ]
  },
  {
   "cell_type": "code",
   "execution_count": null,
   "id": "0f13bde3",
   "metadata": {},
   "outputs": [],
   "source": [
    "\n",
    "\n",
    "\n",
    "\n",
    "\n",
    "\n",
    "\n",
    "\n",
    "\n",
    "\n",
    "\n",
    "\n"
   ]
  }
 ],
 "metadata": {
  "kernelspec": {
   "display_name": "Python 3 (ipykernel)",
   "language": "python",
   "name": "python3"
  },
  "language_info": {
   "codemirror_mode": {
    "name": "ipython",
    "version": 3
   },
   "file_extension": ".py",
   "mimetype": "text/x-python",
   "name": "python",
   "nbconvert_exporter": "python",
   "pygments_lexer": "ipython3",
   "version": "3.8.13"
  }
 },
 "nbformat": 4,
 "nbformat_minor": 5
}
