{
 "cells": [
  {
   "cell_type": "markdown",
   "id": "2b60ef7a",
   "metadata": {},
   "source": [
    "## Introduction to Python for Biological and Neuroscientific Applications\n"
   ]
  },
  {
   "cell_type": "markdown",
   "id": "f2f172c7",
   "metadata": {},
   "source": [
    "## Workshop 1"
   ]
  },
  {
   "cell_type": "markdown",
   "id": "56df0ba4",
   "metadata": {},
   "source": [
    "\n",
    "Python is a versatile, high-level programming language widely favored by scientists and researchers for its readability and flexibility. It finds extensive use across various domains such as computational biology, neuroscience, and biomedical research.\n",
    "It finds extensive use in tasks ranging from data analysis in genetics to simulating neural networks.\n",
    "\n",
    "In this section, we'll introduce Python syntax, statements, operators, basic data types, and data structures, focusing on examples relevant to biological and neuroscientific contexts.\n"
   ]
  },
  {
   "cell_type": "markdown",
   "id": "5f39af9c",
   "metadata": {},
   "source": [
    "### Python Syntax and Statements\n"
   ]
  },
  {
   "cell_type": "markdown",
   "id": "b0eb3844",
   "metadata": {},
   "source": [
    "Syntax in Python refers to the set of rules governing code structure:\n",
    "\n",
    "Line Structure: Python programs are organized into logical lines. Blank lines are ignored, and each logical line represents an actionable instruction.\n",
    "\n",
    "Comments: Denoted by the '#' symbol, comments provide explanatory notes within code.\n",
    "\n",
    "Indentation: Python uses consistent indentation (typically 4 spaces) to denote nested code blocks.\n",
    "\n"
   ]
  },
  {
   "cell_type": "markdown",
   "id": "2c4ca270",
   "metadata": {},
   "source": [
    "### Important Note: In Python notation the first element of every structure we will encounter is 0 not 1. So, eg number 2 denotes the 3rd element of an array!!!\n"
   ]
  },
  {
   "cell_type": "markdown",
   "id": "99c04660",
   "metadata": {},
   "source": [
    "### Python Variables\n",
    "\n"
   ]
  },
  {
   "cell_type": "markdown",
   "id": "dba853d0",
   "metadata": {},
   "source": [
    "In Python, variables act as containers for data. They are dynamically typed, meaning their type is inferred at runtime.\n"
   ]
  },
  {
   "cell_type": "code",
   "execution_count": null,
   "id": "797cd6cd",
   "metadata": {},
   "outputs": [],
   "source": []
  },
  {
   "cell_type": "code",
   "execution_count": 2,
   "id": "ec851e23",
   "metadata": {},
   "outputs": [
    {
     "name": "stdout",
     "output_type": "stream",
     "text": [
      "15\n"
     ]
    }
   ],
   "source": [
    "# Example of assignment statement\n",
    "a = 10\n",
    "a += 5  # Increment a by 5\n",
    "print(a)  # Output: 15\n"
   ]
  },
  {
   "cell_type": "code",
   "execution_count": 2,
   "id": "8adda9da",
   "metadata": {},
   "outputs": [
    {
     "data": {
      "text/plain": [
       "1500"
      ]
     },
     "execution_count": 2,
     "metadata": {},
     "output_type": "execute_result"
    }
   ],
   "source": [
    "# Example of assignment statement\n",
    "num = 1000\n",
    "num += 500 # this line of code is equivalent to: num=num+500\n",
    "num\n"
   ]
  },
  {
   "cell_type": "markdown",
   "id": "39381772",
   "metadata": {},
   "source": [
    "### Python Operators\n"
   ]
  },
  {
   "cell_type": "markdown",
   "id": "c5b79bbd",
   "metadata": {},
   "source": [
    "Python supports various operators for performing operations on data:\n",
    "\n",
    "Assignment Operators: Used to assign values to variables.\n",
    "\n",
    "Arithmetic Operators: Include addition, subtraction, multiplication, division, modulus, and exponentiation."
   ]
  },
  {
   "cell_type": "raw",
   "id": "6489c97c",
   "metadata": {},
   "source": [
    "Assignment Operators: =, +=, -= etc.\n",
    "\n",
    "Arithmetic Operators: +, -, * ,%, /, ** (exponentiation)"
   ]
  },
  {
   "cell_type": "code",
   "execution_count": 4,
   "id": "a42a2e26",
   "metadata": {},
   "outputs": [
    {
     "name": "stdout",
     "output_type": "stream",
     "text": [
      "9\n",
      "2.25\n",
      "18\n",
      "81\n"
     ]
    }
   ],
   "source": [
    "# Example of arithmetic operators\n",
    "a = 4 \n",
    "b = 5\n",
    "c = a + b  # Addition\n",
    "print(c)  # Output: 20\n",
    "\n",
    "print(c / 4)  # Division\n",
    "print(c % 3)  # Modulus\n",
    "print(c * 2)  # Multiplication\n",
    "print(c ** 2)  # Exponentiation\n"
   ]
  },
  {
   "cell_type": "markdown",
   "id": "7b59aed1",
   "metadata": {},
   "source": [
    "#### Exercise: calculate the sum of item 1 and 2 and display the outcome\n",
    "item1 = 3.5 \n",
    "item2 = 2.0\n",
    "\n",
    "\n"
   ]
  },
  {
   "cell_type": "code",
   "execution_count": null,
   "id": "671c482f",
   "metadata": {},
   "outputs": [],
   "source": [
    "# Enter your code here: \n",
    "\n",
    "\n",
    "\n",
    "\n"
   ]
  },
  {
   "cell_type": "markdown",
   "id": "ae44ff31",
   "metadata": {},
   "source": [
    "## Python Basic Data Types\n"
   ]
  },
  {
   "cell_type": "markdown",
   "id": "2bcb6478",
   "metadata": {},
   "source": [
    "Python offers several built-in data types:\n",
    "\n"
   ]
  },
  {
   "cell_type": "markdown",
   "id": "ad0076e1",
   "metadata": {},
   "source": [
    "#### Strings: Represented as sequences of characters within single or double quotes."
   ]
  },
  {
   "cell_type": "code",
   "execution_count": 4,
   "id": "683f6131",
   "metadata": {},
   "outputs": [
    {
     "name": "stdout",
     "output_type": "stream",
     "text": [
      "Hello\n",
      "<class 'str'>\n"
     ]
    }
   ],
   "source": [
    "hello = 'Hello'\n",
    "print(hello)  # Output: Hello\n",
    "print(type(hello))  # Output: <class 'str'>\n"
   ]
  },
  {
   "cell_type": "code",
   "execution_count": 9,
   "id": "fd95e816",
   "metadata": {},
   "outputs": [
    {
     "name": "stdout",
     "output_type": "stream",
     "text": [
      "UACCGUA\n"
     ]
    }
   ],
   "source": [
    "#  sequence\n",
    "sequence1 = 'ATCGGTA'\n",
    "sequence2 = \"UACCGUA\"\n",
    "\n",
    "print(sequence2)"
   ]
  },
  {
   "cell_type": "markdown",
   "id": "e2de7544",
   "metadata": {},
   "source": [
    "#### Numbers (Integers, Floats, Complex): \n"
   ]
  },
  {
   "cell_type": "markdown",
   "id": "2d314939",
   "metadata": {},
   "source": [
    "\n",
    "Integers: Whole numbers\n",
    "\n",
    "\n",
    "Floats: Decimal numbers\n",
    "\n",
    "\n"
   ]
  },
  {
   "cell_type": "code",
   "execution_count": 11,
   "id": "ee5eee67",
   "metadata": {},
   "outputs": [
    {
     "name": "stdout",
     "output_type": "stream",
     "text": [
      "<class 'int'>\n",
      "<class 'float'>\n"
     ]
    }
   ],
   "source": [
    "# Example of integers and float numbers\n",
    "a = 3\n",
    "b = 3.2354\n",
    "\n",
    "print(type(a))  # Output: <class 'int'>\n",
    "print(type(b))  # Output: <class 'float'>\n"
   ]
  },
  {
   "cell_type": "code",
   "execution_count": 12,
   "id": "aefc1475",
   "metadata": {},
   "outputs": [],
   "source": [
    "# Example with biological data\n",
    "population_size = 1000\n",
    "migration_rate = 0.05\n"
   ]
  },
  {
   "cell_type": "markdown",
   "id": "c7178b8d",
   "metadata": {},
   "source": [
    "\n",
    "#### Booleans: Represented as True or False, useful for logical operations.\n"
   ]
  },
  {
   "cell_type": "code",
   "execution_count": 212,
   "id": "7ced0ca5",
   "metadata": {},
   "outputs": [
    {
     "name": "stdout",
     "output_type": "stream",
     "text": [
      "False\n",
      "True\n",
      "True\n",
      "False\n",
      "True\n",
      "True\n"
     ]
    }
   ],
   "source": [
    "#  booleans and operations\n",
    "a = True\n",
    "b = False\n",
    "\n",
    "print(a and b)  # Output: False\n",
    "print(a or b)  # Output: True\n",
    "print(not b)  # Output: True\n",
    "print (a == b)# Output: False  # do not confuse the logical operator '==' with the assignment operator '=' \n",
    "print (a != b) # True\n",
    "print(a == (not b)) # True"
   ]
  },
  {
   "cell_type": "code",
   "execution_count": 1,
   "id": "d9796e44",
   "metadata": {},
   "outputs": [],
   "source": [
    "# neuroscientific context\n",
    "\n",
    "A_spiking = True\n",
    "\n",
    "B_spiking = False\n",
    "\n"
   ]
  },
  {
   "cell_type": "code",
   "execution_count": null,
   "id": "bfea3efa",
   "metadata": {},
   "outputs": [],
   "source": []
  },
  {
   "cell_type": "markdown",
   "id": "7b29943b",
   "metadata": {},
   "source": [
    "Let's imagine that a specific behavioural pattern arises only when neuron A is spiking and neuron B is resting.\n",
    "We can model this relationship with the following line of code:"
   ]
  },
  {
   "cell_type": "code",
   "execution_count": 5,
   "id": "7b627330",
   "metadata": {},
   "outputs": [
    {
     "name": "stdout",
     "output_type": "stream",
     "text": [
      "Does the pattern arise?\n"
     ]
    },
    {
     "data": {
      "text/plain": [
       "False"
      ]
     },
     "execution_count": 5,
     "metadata": {},
     "output_type": "execute_result"
    }
   ],
   "source": [
    "pattern= A_spiking and B_spiking\n",
    "print('Does the pattern arise?')\n",
    "pattern"
   ]
  },
  {
   "cell_type": "markdown",
   "id": "05ccc141",
   "metadata": {},
   "source": [
    "We can see that the behavioural pattern does not arise. You can adjust the values in A_spiking and B_spiking until it does."
   ]
  },
  {
   "cell_type": "markdown",
   "id": "81f02565",
   "metadata": {},
   "source": [
    "We can also model more complex relationships using logical operators. For example another behavioural pattern might be mediated by 2 neurons when either both of them are spiking or they are both resting.Can you model this relationship usingthe boolean operators 'and' / 'or'?"
   ]
  },
  {
   "cell_type": "code",
   "execution_count": null,
   "id": "a4947fc9",
   "metadata": {},
   "outputs": [],
   "source": []
  },
  {
   "cell_type": "markdown",
   "id": "50d596df",
   "metadata": {},
   "source": [
    "## Python Data Structures"
   ]
  },
  {
   "cell_type": "markdown",
   "id": "cb8aaf68",
   "metadata": {},
   "source": [
    "Python provides various data structures to organize and manipulate data:\n",
    "\n"
   ]
  },
  {
   "cell_type": "markdown",
   "id": "0f21e2ec",
   "metadata": {},
   "source": [
    "#### Lists: Ordered collections of elements, mutable and accessible by index.\n"
   ]
  },
  {
   "cell_type": "code",
   "execution_count": 8,
   "id": "a477d8fe",
   "metadata": {},
   "outputs": [
    {
     "name": "stdout",
     "output_type": "stream",
     "text": [
      "frontal lobe\n",
      "['frontal lobe', 'occipital lobe', 'hippocampus', 'cerebellum']\n"
     ]
    }
   ],
   "source": [
    "# Example of lists\n",
    "brain_regions = ['frontal lobe', 'occipital lobe', 'hippocampus']\n",
    "\n",
    "print(brain_regions[0])  # Output: frontal lobe\n",
    "\n",
    "brain_regions.append('cerebellum')\n",
    "print(brain_regions)  # Output: ['frontal lobe', 'occipital lobe', 'hippocampus', 'cerebellum']\n"
   ]
  },
  {
   "cell_type": "markdown",
   "id": "46e1c397",
   "metadata": {},
   "source": [
    "#### Tuples: Similar to lists but immutable once defined.\n"
   ]
  },
  {
   "cell_type": "code",
   "execution_count": 219,
   "id": "060e73a7",
   "metadata": {},
   "outputs": [
    {
     "name": "stdout",
     "output_type": "stream",
     "text": [
      "heamoglobin\n"
     ]
    }
   ],
   "source": [
    "# Example of tuples\n",
    "proteins = ('insulin', 'heamoglobin', 'collagen')\n",
    "\n",
    "print(proteins[1])  # Output: heamoglobin\n"
   ]
  },
  {
   "cell_type": "code",
   "execution_count": 18,
   "id": "d73f028b",
   "metadata": {},
   "outputs": [
    {
     "name": "stdout",
     "output_type": "stream",
     "text": [
      "gene 1\n"
     ]
    }
   ],
   "source": [
    "# Example with genetic data\n",
    "gene_info = ('gene 1', 'gen 2 ', 'gene 3')\n",
    "print(gene_info[0])  # Output: gene 1\n"
   ]
  },
  {
   "cell_type": "markdown",
   "id": "20a3ef38",
   "metadata": {},
   "source": [
    "#### Dictionaries: Unordered collections of key-value pairs, useful for mapping.\n"
   ]
  },
  {
   "cell_type": "code",
   "execution_count": 10,
   "id": "495a3bc0",
   "metadata": {},
   "outputs": [
    {
     "name": "stdout",
     "output_type": "stream",
     "text": [
      "2.3\n"
     ]
    }
   ],
   "source": [
    "# Example of dictionaries\n",
    "gene_expression = {'gene1': 5.6, 'gene2': 2.3, 'gene3': 7.1}\n",
    "\n",
    "print(gene_expression['gene2'])  # Output: 2.3\n"
   ]
  },
  {
   "cell_type": "code",
   "execution_count": 23,
   "id": "ff862960",
   "metadata": {},
   "outputs": [
    {
     "name": "stdout",
     "output_type": "stream",
     "text": [
      "{'insulin (μU/mL)': 10, 'heamoglobin (units/mL)': 15, 'collagen': 20}\n",
      "10\n"
     ]
    }
   ],
   "source": [
    "# Example \n",
    "protein_concentration = {'insulin (μU/mL)': 10 , 'heamoglobin (units/mL)': 15 \n",
    " , 'collagen': 20}\n",
    "\n",
    "print(protein_concentration)  \n",
    "print(protein_concentration['insulin (μU/mL)'])  \n"
   ]
  },
  {
   "cell_type": "markdown",
   "id": "96dd7d46",
   "metadata": {},
   "source": [
    "## Python Control Flow\n"
   ]
  },
  {
   "cell_type": "markdown",
   "id": "6b74eb74",
   "metadata": {},
   "source": [
    "Control flow dictates the order of statement execution based on conditions:\n",
    "\n"
   ]
  },
  {
   "cell_type": "markdown",
   "id": "052d2026",
   "metadata": {},
   "source": [
    "### Conditional Statements: Utilized for decision-making using if, elif, and else clauses.\n"
   ]
  },
  {
   "cell_type": "code",
   "execution_count": 12,
   "id": "0864f93e",
   "metadata": {},
   "outputs": [
    {
     "name": "stdout",
     "output_type": "stream",
     "text": [
      "It's warm.\n"
     ]
    }
   ],
   "source": [
    "# Example of conditional statements\n",
    "temperature = 25\n",
    "\n",
    "if temperature > 30:\n",
    "    print(\"It's hot!\")\n",
    "elif temperature > 20:\n",
    "    print(\"It's warm.\")\n",
    "else:\n",
    "    print(\"It's cool.\")\n"
   ]
  },
  {
   "cell_type": "code",
   "execution_count": 35,
   "id": "6c10b10f",
   "metadata": {},
   "outputs": [
    {
     "name": "stdout",
     "output_type": "stream",
     "text": [
      "High gene expression\n"
     ]
    }
   ],
   "source": [
    "# Example with biological conditions\n",
    "expression_level = 500\n",
    "\n",
    "if expression_level > 100:\n",
    "    print(\"High gene expression\")\n",
    "else:\n",
    "    print(\"Low gene expression\")\n"
   ]
  },
  {
   "cell_type": "markdown",
   "id": "30c95517",
   "metadata": {},
   "source": [
    "### Loops (For and While): Iterative constructs to execute code repeatedly.\n"
   ]
  },
  {
   "cell_type": "code",
   "execution_count": 14,
   "id": "1075793c",
   "metadata": {},
   "outputs": [
    {
     "name": "stdout",
     "output_type": "stream",
     "text": [
      "frontal lobe\n",
      "occipital lobe\n",
      "hippocampus\n"
     ]
    }
   ],
   "source": [
    "# Example of loops\n",
    "brain_regions = ['frontal lobe', 'occipital lobe', 'hippocampus']\n",
    "\n",
    "# For loop\n",
    "for region in brain_regions:\n",
    "    print(region)\n",
    "\n",
    "\n"
   ]
  },
  {
   "cell_type": "markdown",
   "id": "c126d80a",
   "metadata": {},
   "source": [
    "### Exercise 1. For Loop Exercise"
   ]
  },
  {
   "cell_type": "markdown",
   "id": "ac6914ae",
   "metadata": {},
   "source": [
    "Task: Write a program that prints the square of numbers from 1 to 10 using a for loop.\n"
   ]
  },
  {
   "cell_type": "markdown",
   "id": "8a9a23d8",
   "metadata": {},
   "source": [
    "Instructions \n"
   ]
  },
  {
   "cell_type": "markdown",
   "id": "ab9972ca",
   "metadata": {},
   "source": [
    "Use a for loop to iterate through numbers from 1 to 10.\n",
    "Inside the loop, calculate the square of the current number.\n",
    "Print the number and its square in the format: Number: X, Square: Y."
   ]
  },
  {
   "cell_type": "code",
   "execution_count": null,
   "id": "36703652",
   "metadata": {},
   "outputs": [],
   "source": [
    "#Enter your code here: \n",
    "\n",
    "\n"
   ]
  },
  {
   "cell_type": "markdown",
   "id": "b12bf6a5",
   "metadata": {},
   "source": [
    "### Exercise 2: If Statements (and for loops)"
   ]
  },
  {
   "cell_type": "markdown",
   "id": "4bebdb83",
   "metadata": {},
   "source": [
    "Task: Write a program that checks if numbers from 1 to 20 are even or odd.\n"
   ]
  },
  {
   "cell_type": "markdown",
   "id": "15c71662",
   "metadata": {},
   "source": [
    "Instructions:\n"
   ]
  },
  {
   "cell_type": "markdown",
   "id": "deff68a6",
   "metadata": {},
   "source": [
    "Use a for loop to iterate through numbers from 1 to 20.\n",
    "Inside the loop, use an if statement to check if the number is even (divisible by 2).\n",
    "Print \"Even\" if the number is even and \"Odd\" otherwise."
   ]
  },
  {
   "cell_type": "code",
   "execution_count": null,
   "id": "3130bf39",
   "metadata": {},
   "outputs": [],
   "source": [
    "#Enter your code here: \n",
    "\n",
    "\n",
    "\n",
    "\n"
   ]
  },
  {
   "cell_type": "markdown",
   "id": "823df9ac",
   "metadata": {},
   "source": [
    "### Exercise 3. Calculate the Mean\n"
   ]
  },
  {
   "cell_type": "markdown",
   "id": "ae7cabc7",
   "metadata": {},
   "source": [
    "Task: Write a program to calculate the mean of a given dataset.\n"
   ]
  },
  {
   "cell_type": "markdown",
   "id": "9fe22f87",
   "metadata": {},
   "source": [
    "Instructions:"
   ]
  },
  {
   "cell_type": "markdown",
   "id": "2d3cf8c9",
   "metadata": {},
   "source": [
    "Use the following dataset: [5, 10, 15, 20, 25, 30, 35, 40, 45, 50].\n",
    "Calculate the mean by summing all numbers in the dataset and dividing by the total count of numbers.\n",
    "Print the result as: The mean is: X."
   ]
  },
  {
   "cell_type": "code",
   "execution_count": null,
   "id": "cf3405da",
   "metadata": {},
   "outputs": [],
   "source": [
    "#Enter your code here: \n",
    "\n",
    "\n"
   ]
  },
  {
   "cell_type": "code",
   "execution_count": null,
   "id": "2b44b10c",
   "metadata": {},
   "outputs": [],
   "source": []
  },
  {
   "cell_type": "markdown",
   "id": "8115405e",
   "metadata": {},
   "source": [
    "## Python Functions and Modules\n"
   ]
  },
  {
   "cell_type": "markdown",
   "id": "c24862d0",
   "metadata": {},
   "source": [
    "Functions encapsulate reusable code:\n",
    "\n"
   ]
  },
  {
   "cell_type": "markdown",
   "id": "eff69777",
   "metadata": {},
   "source": [
    "#### Built-in and Custom Functions: Python includes built-in functions and allows users to define custom functions.\n"
   ]
  },
  {
   "cell_type": "markdown",
   "id": "05aee8d0",
   "metadata": {},
   "source": [
    "### Built-in Functions\n",
    "Python includes many built-in functions like len(), type(), etc."
   ]
  },
  {
   "cell_type": "markdown",
   "id": "68f599e2",
   "metadata": {},
   "source": [
    "With the added information that the function sum() adds the elements of an array:"
   ]
  },
  {
   "cell_type": "markdown",
   "id": "c932f61f",
   "metadata": {},
   "source": [
    "Eg"
   ]
  },
  {
   "cell_type": "code",
   "execution_count": 9,
   "id": "15ec3b4c",
   "metadata": {},
   "outputs": [
    {
     "data": {
      "text/plain": [
       "12"
      ]
     },
     "execution_count": 9,
     "metadata": {},
     "output_type": "execute_result"
    }
   ],
   "source": [
    "sum([3,4,5])"
   ]
  },
  {
   "cell_type": "markdown",
   "id": "0ee25a7d",
   "metadata": {},
   "source": [
    "And the function len gives the number of the elements of an array:"
   ]
  },
  {
   "cell_type": "code",
   "execution_count": 10,
   "id": "e1566fdc",
   "metadata": {},
   "outputs": [
    {
     "data": {
      "text/plain": [
       "3"
      ]
     },
     "execution_count": 10,
     "metadata": {},
     "output_type": "execute_result"
    }
   ],
   "source": [
    "len([3,4,5])"
   ]
  },
  {
   "cell_type": "markdown",
   "id": "34d6b122",
   "metadata": {},
   "source": [
    "How would you adapt the code you wrote for Exercise 3?"
   ]
  },
  {
   "cell_type": "code",
   "execution_count": null,
   "id": "396c2814",
   "metadata": {},
   "outputs": [],
   "source": [
    "#Enter your code here: \n",
    "\n",
    "\n",
    "\n",
    "\n"
   ]
  },
  {
   "cell_type": "markdown",
   "id": "efc66d87",
   "metadata": {},
   "source": [
    "### Custom Functions\n",
    "Users can define custom functions tailored to specific tasks."
   ]
  },
  {
   "cell_type": "markdown",
   "id": "bc5eb917",
   "metadata": {},
   "source": [
    "There is another way to calculate the mean:"
   ]
  },
  {
   "cell_type": "code",
   "execution_count": 16,
   "id": "3ea56cd7",
   "metadata": {
    "scrolled": false
   },
   "outputs": [
    {
     "name": "stdout",
     "output_type": "stream",
     "text": [
      "3.0\n"
     ]
    }
   ],
   "source": [
    "# Example of a custom function\n",
    "def calculate_mean(data):\n",
    "    \"\"\"\n",
    "    Calculate mean of a list of numbers.\n",
    "    \"\"\"\n",
    "    mean = sum(data) / len(data)\n",
    "    return mean\n",
    "\n",
    "numbers = [1, 2, 3, 4, 5]\n",
    "print(calculate_mean(numbers))  # Output: 3.0\n"
   ]
  },
  {
   "cell_type": "markdown",
   "id": "f32aa696",
   "metadata": {},
   "source": [
    "##### Or, as we will see in the next section, we can calculate the mean using the np.mean function...\n",
    "    "
   ]
  },
  {
   "cell_type": "code",
   "execution_count": 36,
   "id": "55ea1df8",
   "metadata": {},
   "outputs": [
    {
     "data": {
      "text/plain": [
       "0.5185185185185185"
      ]
     },
     "execution_count": 36,
     "metadata": {},
     "output_type": "execute_result"
    }
   ],
   "source": [
    "# Example with biological data\n",
    "def calculate_gc_content(sequence):\n",
    "    gc_count = sequence.count('G') + sequence.count('C')\n",
    "    total_bases = len(sequence)\n",
    "    return gc_count / total_bases\n",
    "\n",
    "dna_sequence = 'ATGCGATCGATCGTAGCTAGCTGATCG'\n",
    "gc_content = calculate_gc_content(dna_sequence)\n",
    "gc_content\n"
   ]
  },
  {
   "cell_type": "code",
   "execution_count": 38,
   "id": "03945653",
   "metadata": {},
   "outputs": [
    {
     "data": {
      "text/plain": [
       "50.0"
      ]
     },
     "execution_count": 38,
     "metadata": {},
     "output_type": "execute_result"
    }
   ],
   "source": [
    "# Example with neuroscience\n",
    "def calculate_membrane_potential(current, resistance):\n",
    "    \"\"\"\n",
    "    Calculates membrane potential based on Ohm's law.\n",
    "    \"\"\"\n",
    "    return current * resistance\n",
    "\n",
    "voltage = calculate_membrane_potential(5.0, 10.0)\n",
    "voltage\n"
   ]
  },
  {
   "cell_type": "markdown",
   "id": "506367ee",
   "metadata": {},
   "source": [
    "## Modules and libraries: \n",
    "Collections of functions and classes that extend Python's capabilities.\n"
   ]
  },
  {
   "cell_type": "markdown",
   "id": "b1650397",
   "metadata": {},
   "source": [
    "Python includes many different libraries, like numpy, math, matplotlib etc\n"
   ]
  },
  {
   "cell_type": "markdown",
   "id": "3e200dee",
   "metadata": {},
   "source": [
    "Using the \"import\" command, you can call these libraries and use their built-in functions"
   ]
  },
  {
   "cell_type": "markdown",
   "id": "2a060ac9",
   "metadata": {},
   "source": [
    "### We will now introduce some of the most useful Python libraries for data analysis and visualisation\n"
   ]
  },
  {
   "cell_type": "markdown",
   "id": "b7925df9",
   "metadata": {},
   "source": [
    "## Introduction to NumPy for Array Creation and Manipulation\n"
   ]
  },
  {
   "cell_type": "markdown",
   "id": "7aebd14a",
   "metadata": {},
   "source": [
    "## NumPy Introduction\n"
   ]
  },
  {
   "cell_type": "markdown",
   "id": "69e0bb84",
   "metadata": {},
   "source": [
    "NumPy is a fundamental package for numerical computing in Python, essential for tasks involving arrays, matrices, and linear algebra, critical in biological simulations and data analysis.\n",
    "\n"
   ]
  },
  {
   "cell_type": "markdown",
   "id": "32b1b133",
   "metadata": {},
   "source": [
    "### Vector Definition\n"
   ]
  },
  {
   "cell_type": "markdown",
   "id": "0023460d",
   "metadata": {},
   "source": [
    "NumPy arrays are used to represent vectors, crucial in representing genetic sequences or neural activations.\n",
    "\n"
   ]
  },
  {
   "cell_type": "code",
   "execution_count": 150,
   "id": "aa384235",
   "metadata": {},
   "outputs": [
    {
     "name": "stdout",
     "output_type": "stream",
     "text": [
      "1D Array:\n",
      "[1 2 3 4 5]\n",
      "\n",
      "2D Array:\n",
      "[[1 2 3]\n",
      " [4 5 6]]\n"
     ]
    }
   ],
   "source": [
    "import numpy as np\n",
    "\n",
    "# Create a 1D NumPy array\n",
    "arr1d = np.array([1, 2, 3, 4, 5])\n",
    "print(\"1D Array:\")\n",
    "print(arr1d)\n",
    "\n",
    "# Create a 2D NumPy array (matrix)\n",
    "arr2d = np.array([[1, 2, 3], [4, 5, 6]])\n",
    "print(\"\\n2D Array:\")\n",
    "print(arr2d)\n"
   ]
  },
  {
   "cell_type": "markdown",
   "id": "35ecda92",
   "metadata": {},
   "source": [
    "### Exercise 4. "
   ]
  },
  {
   "cell_type": "markdown",
   "id": "1ad3f148",
   "metadata": {},
   "source": [
    "Using numpy, create a 1D array of hear rates during exercise: "
   ]
  },
  {
   "cell_type": "markdown",
   "id": "db87ed38",
   "metadata": {},
   "source": [
    "Use these values: 120, 125, 115, 110, 130"
   ]
  },
  {
   "cell_type": "code",
   "execution_count": 158,
   "id": "adb3a5e7",
   "metadata": {},
   "outputs": [
    {
     "name": "stdout",
     "output_type": "stream",
     "text": [
      "Heart Rates (bpm):\n",
      "[120 125 115 110 130]\n"
     ]
    }
   ],
   "source": [
    "# \n",
    "\n",
    "\n",
    "\n",
    "\n"
   ]
  },
  {
   "cell_type": "markdown",
   "id": "59e65f3b",
   "metadata": {},
   "source": [
    "### Basic Array Operations"
   ]
  },
  {
   "cell_type": "code",
   "execution_count": 30,
   "id": "76d318dc",
   "metadata": {},
   "outputs": [
    {
     "name": "stdout",
     "output_type": "stream",
     "text": [
      "Element-wise addition:\n",
      "[5 7 9]\n",
      "\n",
      "Element-wise multiplication:\n",
      "[ 4 10 18]\n"
     ]
    }
   ],
   "source": [
    "import numpy as np\n",
    "\n",
    "# Create NumPy arrays\n",
    "arr1 = np.array([1, 2, 3])\n",
    "arr2 = np.array([4, 5, 6])\n",
    "\n",
    "# Element-wise operations\n",
    "print(\"Element-wise addition:\")\n",
    "print(arr1 + arr2)\n",
    "\n",
    "print(\"\\nElement-wise multiplication:\")\n",
    "print(arr1 * arr2)\n",
    "\n",
    "\n"
   ]
  },
  {
   "cell_type": "markdown",
   "id": "b7d59383",
   "metadata": {},
   "source": [
    "Example:"
   ]
  },
  {
   "cell_type": "code",
   "execution_count": 31,
   "id": "204712ae",
   "metadata": {},
   "outputs": [
    {
     "name": "stdout",
     "output_type": "stream",
     "text": [
      "Difference in Firing Rates (Trial 2 - Trial 1):\n",
      "[-2 -3 -2 -2 -2]\n"
     ]
    }
   ],
   "source": [
    "import numpy as np\n",
    "\n",
    "# Create NumPy arrays for analysis of neural firing rates\n",
    "neural_activity_trial1 = np.array([20, 25, 30, 35, 40])\n",
    "neural_activity_trial2 = np.array([18, 22, 28, 33, 38])\n",
    "\n",
    "# Element-wise operations: Calculate difference in firing rates\n",
    "difference = neural_activity_trial2 - neural_activity_trial1\n",
    "print(\"Difference in Firing Rates (Trial 2 - Trial 1):\")\n",
    "print(difference)\n",
    "\n"
   ]
  },
  {
   "cell_type": "markdown",
   "id": "f2d633b9",
   "metadata": {},
   "source": [
    "### Creating Arrays with NumPy Functions"
   ]
  },
  {
   "cell_type": "code",
   "execution_count": 153,
   "id": "f02ced0f",
   "metadata": {},
   "outputs": [
    {
     "name": "stdout",
     "output_type": "stream",
     "text": [
      "Zeros Array:\n",
      "[[0. 0. 0.]\n",
      " [0. 0. 0.]]\n",
      "\n",
      "Ones Array:\n",
      "[[1. 1. 1. 1.]\n",
      " [1. 1. 1. 1.]\n",
      " [1. 1. 1. 1.]]\n",
      "\n",
      "Random Array:\n",
      "[[0.62889844 0.39843426]\n",
      " [0.06271295 0.42403225]\n",
      " [0.25868407 0.84903831]]\n"
     ]
    }
   ],
   "source": [
    "import numpy as np\n",
    "\n",
    "# Create arrays using NumPy functions\n",
    "zeros_array = np.zeros((2, 3))  # 2x3 array of zeros\n",
    "ones_array = np.ones((3, 4))    # 3x4 array of ones\n",
    "random_array = np.random.rand(3, 2)  # 3x2 array of random numbers in [0, 1)\n",
    "\n",
    "print(\"Zeros Array:\")\n",
    "print(zeros_array)\n",
    "\n",
    "print(\"\\nOnes Array:\")\n",
    "print(ones_array)\n",
    "\n",
    "print(\"\\nRandom Array:\")\n",
    "print(random_array)\n"
   ]
  },
  {
   "cell_type": "markdown",
   "id": "6e128e8d",
   "metadata": {},
   "source": [
    "These functions are very useful in simulating data:"
   ]
  },
  {
   "cell_type": "code",
   "execution_count": 168,
   "id": "c4274b56",
   "metadata": {},
   "outputs": [
    {
     "name": "stdout",
     "output_type": "stream",
     "text": [
      "Muscle Strength Progress (kgs) for 7 athletes:\n",
      "[ 3.27557018  1.26805061  0.96961961 -0.57732551  1.18345094  1.45892054\n",
      "  0.05760649]\n"
     ]
    }
   ],
   "source": [
    "import numpy as np\n",
    "\n",
    "# Create arrays using NumPy functions for muscle strength data\n",
    "strength_gains_week1 = np.random.rand(7) * 2  # 1D   gains over week 1(kgs)\n",
    "strength_gains_week2 = np.random.rand(7) * 5     # week 2\n",
    "\n",
    "# Generate random array for muscle strength progress (kgs)\n",
    "muscle_strength_progress = strength_gains_week2-strength_gains_week1\n",
    "print(\"Muscle Strength Progress (kgs) for 7 athletes:\")\n",
    "print(muscle_strength_progress)\n"
   ]
  },
  {
   "cell_type": "markdown",
   "id": "f6c82823",
   "metadata": {},
   "source": [
    "### Indexing and Slicing\n"
   ]
  },
  {
   "cell_type": "markdown",
   "id": "94654e63",
   "metadata": {},
   "source": [
    "#### In python the first element of a data structure is has the position 0!!! "
   ]
  },
  {
   "cell_type": "markdown",
   "id": "9ded41ab",
   "metadata": {},
   "source": [
    "Therefore, if you want to access the second elemend you use the index 2, for the 2nd, the index 3 etc"
   ]
  },
  {
   "cell_type": "code",
   "execution_count": 4,
   "id": "2bd65f25",
   "metadata": {},
   "outputs": [
    {
     "name": "stdout",
     "output_type": "stream",
     "text": [
      "Element at (1, 2): 2\n",
      "\n",
      "Slicing:\n",
      "First row: [1 2 3]\n",
      "First column: [1 4 7]\n",
      "Subarray from first two rows and last two columns:\n",
      "[[2 3]\n",
      " [5 6]]\n"
     ]
    }
   ],
   "source": [
    "import numpy as np\n",
    "\n",
    "# Create a 2D NumPy array\n",
    "arr2d = np.array([[1, 2, 3], [4, 5, 6], [7, 8, 9]])\n",
    "\n",
    "# Indexing\n",
    "print(\"Element at (1, 2):\", arr2d[0, 1])  # Accessing element in the first row, second column !!!!\n",
    "\n",
    "# Slicing\n",
    "print(\"\\nSlicing:\")\n",
    "print(\"First row:\", arr2d[0, :])      # First row (index=0 for the first row!)\n",
    "print(\"First column:\", arr2d[:, 0])   # First column\n",
    "print(\"Subarray from first two rows and last two columns:\")\n",
    "print(arr2d[:2, -2:])\n"
   ]
  },
  {
   "cell_type": "markdown",
   "id": "bed5a464",
   "metadata": {},
   "source": [
    "How to calculate the mean:"
   ]
  },
  {
   "cell_type": "code",
   "execution_count": 6,
   "id": "4bfcf500",
   "metadata": {},
   "outputs": [
    {
     "name": "stdout",
     "output_type": "stream",
     "text": [
      "88.5\n"
     ]
    }
   ],
   "source": [
    "heart_rate=[120,75,60,92,101,83]\n",
    "meanHR=np.mean(heart_rate)\n",
    "print(meanHR)"
   ]
  },
  {
   "cell_type": "markdown",
   "id": "c9673efb",
   "metadata": {},
   "source": [
    "### One of the advantages of python is its versatility. How many different ways to calculate the mean have we encountered? "
   ]
  },
  {
   "cell_type": "markdown",
   "id": "4e24fdc0",
   "metadata": {},
   "source": []
  }
 ],
 "metadata": {
  "kernelspec": {
   "display_name": "Python 3 (ipykernel)",
   "language": "python",
   "name": "python3"
  },
  "language_info": {
   "codemirror_mode": {
    "name": "ipython",
    "version": 3
   },
   "file_extension": ".py",
   "mimetype": "text/x-python",
   "name": "python",
   "nbconvert_exporter": "python",
   "pygments_lexer": "ipython3",
   "version": "3.8.13"
  }
 },
 "nbformat": 4,
 "nbformat_minor": 5
}
